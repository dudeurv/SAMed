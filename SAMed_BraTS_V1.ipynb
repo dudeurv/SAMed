{
  "nbformat": 4,
  "nbformat_minor": 0,
  "metadata": {
    "colab": {
      "provenance": [],
      "include_colab_link": true
    },
    "kernelspec": {
      "name": "python3",
      "display_name": "Python 3"
    },
    "language_info": {
      "name": "python"
    },
    "accelerator": "GPU",
    "gpuClass": "standard"
  },
  "cells": [
    {
      "cell_type": "markdown",
      "metadata": {
        "id": "view-in-github",
        "colab_type": "text"
      },
      "source": [
        "<a href=\"https://colab.research.google.com/github/dudeurv/SAMed/blob/main/SAMed_BraTS_V1.ipynb\" target=\"_parent\"><img src=\"https://colab.research.google.com/assets/colab-badge.svg\" alt=\"Open In Colab\"/></a>"
      ]
    },
    {
      "cell_type": "markdown",
      "source": [
        "# Customized Segment Anything Model for Medical Image Segmentation\n",
        "### [[Paper](https://arxiv.org/pdf/2304.13785.pdf)] [[Github](https://github.com/hitachinsk/SAMed)]\n",
        "---\n"
      ],
      "metadata": {
        "id": "1P2M4gZbKZWt"
      }
    },
    {
      "cell_type": "markdown",
      "source": [
        "# Setup environment"
      ],
      "metadata": {
        "id": "Id3D1PuuLQMm"
      }
    },
    {
      "cell_type": "code",
      "source": [
        "!pip install -q einops==0.6.1 icecream==2.1.3 MedPy==0.4.0 monai==1.1.0 opencv_python==4.5.4.58 SimpleITK==2.2.1 tensorboardX==2.6 ml-collections==0.1.1 onnx==1.13.1 onnxruntime==1.14.1 tensorboardX torchmetrics"
      ],
      "metadata": {
        "colab": {
          "base_uri": "https://localhost:8080/"
        },
        "id": "HmmYvx7FLUif",
        "outputId": "69847f04-0b00-4346-ddfa-16db5564312c"
      },
      "execution_count": 1,
      "outputs": [
        {
          "output_type": "stream",
          "name": "stdout",
          "text": [
            "\u001b[2K     \u001b[90m━━━━━━━━━━━━━━━━━━━━━━━━━━━━━━━━━━━━━━━━\u001b[0m \u001b[32m42.2/42.2 kB\u001b[0m \u001b[31m433.4 kB/s\u001b[0m eta \u001b[36m0:00:00\u001b[0m\n",
            "\u001b[2K     \u001b[90m━━━━━━━━━━━━━━━━━━━━━━━━━━━━━━━━━━━━━━━━\u001b[0m \u001b[32m151.8/151.8 kB\u001b[0m \u001b[31m2.4 MB/s\u001b[0m eta \u001b[36m0:00:00\u001b[0m\n",
            "\u001b[?25h  Preparing metadata (setup.py) ... \u001b[?25l\u001b[?25hdone\n",
            "\u001b[2K     \u001b[90m━━━━━━━━━━━━━━━━━━━━━━━━━━━━━━━━━━━━━━━━\u001b[0m \u001b[32m1.2/1.2 MB\u001b[0m \u001b[31m11.4 MB/s\u001b[0m eta \u001b[36m0:00:00\u001b[0m\n",
            "\u001b[2K     \u001b[90m━━━━━━━━━━━━━━━━━━━━━━━━━━━━━━━━━━━━━━━━\u001b[0m \u001b[32m60.3/60.3 MB\u001b[0m \u001b[31m9.1 MB/s\u001b[0m eta \u001b[36m0:00:00\u001b[0m\n",
            "\u001b[2K     \u001b[90m━━━━━━━━━━━━━━━━━━━━━━━━━━━━━━━━━━━━━━━━\u001b[0m \u001b[32m52.7/52.7 MB\u001b[0m \u001b[31m8.9 MB/s\u001b[0m eta \u001b[36m0:00:00\u001b[0m\n",
            "\u001b[2K     \u001b[90m━━━━━━━━━━━━━━━━━━━━━━━━━━━━━━━━━━━━━━━━\u001b[0m \u001b[32m114.5/114.5 kB\u001b[0m \u001b[31m3.2 MB/s\u001b[0m eta \u001b[36m0:00:00\u001b[0m\n",
            "\u001b[2K     \u001b[90m━━━━━━━━━━━━━━━━━━━━━━━━━━━━━━━━━━━━━━━━\u001b[0m \u001b[32m77.9/77.9 kB\u001b[0m \u001b[31m6.2 MB/s\u001b[0m eta \u001b[36m0:00:00\u001b[0m\n",
            "\u001b[?25h  Preparing metadata (setup.py) ... \u001b[?25l\u001b[?25hdone\n",
            "\u001b[2K     \u001b[90m━━━━━━━━━━━━━━━━━━━━━━━━━━━━━━━━━━━━━━━━\u001b[0m \u001b[32m13.5/13.5 MB\u001b[0m \u001b[31m23.7 MB/s\u001b[0m eta \u001b[36m0:00:00\u001b[0m\n",
            "\u001b[2K     \u001b[90m━━━━━━━━━━━━━━━━━━━━━━━━━━━━━━━━━━━━━━━━\u001b[0m \u001b[32m5.0/5.0 MB\u001b[0m \u001b[31m20.6 MB/s\u001b[0m eta \u001b[36m0:00:00\u001b[0m\n",
            "\u001b[2K     \u001b[90m━━━━━━━━━━━━━━━━━━━━━━━━━━━━━━━━━━━━━━━━\u001b[0m \u001b[32m806.1/806.1 kB\u001b[0m \u001b[31m31.6 MB/s\u001b[0m eta \u001b[36m0:00:00\u001b[0m\n",
            "\u001b[2K     \u001b[90m━━━━━━━━━━━━━━━━━━━━━━━━━━━━━━━━━━━━━━━━\u001b[0m \u001b[32m46.0/46.0 kB\u001b[0m \u001b[31m3.3 MB/s\u001b[0m eta \u001b[36m0:00:00\u001b[0m\n",
            "\u001b[2K     \u001b[90m━━━━━━━━━━━━━━━━━━━━━━━━━━━━━━━━━━━━━━━━\u001b[0m \u001b[32m86.8/86.8 kB\u001b[0m \u001b[31m5.7 MB/s\u001b[0m eta \u001b[36m0:00:00\u001b[0m\n",
            "\u001b[?25h  Building wheel for MedPy (setup.py) ... \u001b[?25l\u001b[?25hdone\n",
            "  Building wheel for ml-collections (setup.py) ... \u001b[?25l\u001b[?25hdone\n"
          ]
        }
      ]
    },
    {
      "cell_type": "markdown",
      "source": [
        "# Download codes, pretrained weights and test data"
      ],
      "metadata": {
        "id": "m-tSMFkgPhyc"
      }
    },
    {
      "cell_type": "code",
      "source": [
        "# prepare codes\n",
        "import os\n",
        "CODE_DIR = 'samed_codes'\n",
        "os.makedirs(f'./{CODE_DIR}')\n",
        "!git clone https://github.com/hitachinsk/SAMed.git $CODE_DIR\n",
        "os.chdir(f'./{CODE_DIR}')"
      ],
      "metadata": {
        "colab": {
          "base_uri": "https://localhost:8080/"
        },
        "id": "RyB2eYACPtEX",
        "outputId": "0b674f24-5732-4acf-da39-0eee4fd17843"
      },
      "execution_count": 2,
      "outputs": [
        {
          "output_type": "stream",
          "name": "stdout",
          "text": [
            "Cloning into 'samed_codes'...\n",
            "remote: Enumerating objects: 225, done.\u001b[K\n",
            "remote: Counting objects: 100% (58/58), done.\u001b[K\n",
            "remote: Compressing objects: 100% (29/29), done.\u001b[K\n",
            "remote: Total 225 (delta 42), reused 29 (delta 29), pack-reused 167\u001b[K\n",
            "Receiving objects: 100% (225/225), 636.92 KiB | 5.44 MiB/s, done.\n",
            "Resolving deltas: 100% (103/103), done.\n"
          ]
        }
      ]
    },
    {
      "cell_type": "code",
      "source": [
        "#dataset\n",
        "!gdown https://drive.google.com/uc?id=1nHZWlCBpudbT4zzPyqyu2Vi5uILcxSrv\n",
        "import zipfile\n",
        "with zipfile.ZipFile('Slices.zip', 'r') as zip_ref:\n",
        "    zip_ref.extractall()\n",
        "\n",
        "#weights\n",
        "!gdown https://drive.google.com/uc?id=1P0Bm-05l-rfeghbrT1B62v5eN-3A-uOr #'epoch_159.pth'\n",
        "!gdown https://drive.google.com/uc?id=1_oCdoEEu3mNhRfFxeWyRerOKt8OEUvcg #'sam_vit_b_01ec64.pth'"
      ],
      "metadata": {
        "colab": {
          "base_uri": "https://localhost:8080/"
        },
        "id": "1fAoOVHvAxPh",
        "outputId": "8dce3471-00e2-44c2-ae4e-3cf214b1fe55"
      },
      "execution_count": 3,
      "outputs": [
        {
          "output_type": "stream",
          "name": "stdout",
          "text": [
            "Downloading...\n",
            "From: https://drive.google.com/uc?id=1nHZWlCBpudbT4zzPyqyu2Vi5uILcxSrv\n",
            "To: /content/samed_codes/Slices.zip\n",
            "100% 56.1M/56.1M [00:00<00:00, 88.2MB/s]\n",
            "Downloading...\n",
            "From: https://drive.google.com/uc?id=1P0Bm-05l-rfeghbrT1B62v5eN-3A-uOr\n",
            "To: /content/samed_codes/epoch_159.pth\n",
            "100% 19.7M/19.7M [00:00<00:00, 22.0MB/s]\n",
            "Downloading...\n",
            "From: https://drive.google.com/uc?id=1_oCdoEEu3mNhRfFxeWyRerOKt8OEUvcg\n",
            "To: /content/samed_codes/sam_vit_b_01ec64.pth\n",
            "100% 375M/375M [00:07<00:00, 49.8MB/s]\n"
          ]
        }
      ]
    },
    {
      "cell_type": "markdown",
      "source": [
        "Dataloader:"
      ],
      "metadata": {
        "id": "LnQmJASbCqUT"
      }
    },
    {
      "cell_type": "code",
      "source": [
        "%cd /content/samed_codes\n",
        "from torch.utils.data import Dataset, DataLoader\n",
        "from glob import glob\n",
        "import imageio.v2 as iio\n",
        "import matplotlib.pyplot as plt\n",
        "from glob import glob\n",
        "import numpy as np\n",
        "from scipy.ndimage import zoom\n",
        "from einops import repeat\n",
        "from scipy import ndimage\n",
        "import random\n",
        "from PIL import Image\n",
        "import cv2\n",
        "\n",
        "def normalise_intensity(image, ROI_thres=0.1):\n",
        "    pixel_thres = np.percentile(image, ROI_thres)\n",
        "    ROI = np.where(image > pixel_thres, image, 0) # If image value is greater than pixel threshold, return image value, otherwise return 0\n",
        "    mean = np.mean(ROI)\n",
        "    std = np.std(ROI)\n",
        "    ROI_norm = (ROI - mean) / (std + 1e-8) # Normalise ROI\n",
        "    return ROI_norm\n",
        "\n",
        "def random_rot_flip(image, label):\n",
        "    k = np.random.randint(0, 4)\n",
        "    image = np.rot90(image, k)\n",
        "    label = np.rot90(label, k)\n",
        "    axis = np.random.randint(0, 2)\n",
        "    image = np.flip(image, axis=axis).copy()\n",
        "    label = np.flip(label, axis=axis).copy()\n",
        "    return image, label\n",
        "\n",
        "\n",
        "def random_rotate(image, label):\n",
        "    angle = np.random.randint(-20, 20)\n",
        "    image = ndimage.rotate(image, angle, order=0, reshape=False)\n",
        "    label = ndimage.rotate(label, angle, order=0, reshape=False)\n",
        "    return image, label\n",
        "\n",
        "def map_labels(label):\n",
        "    label_map = {0: 0, 85: 1, 128:0, 170: 2, 255: 3}\n",
        "    mapped_label = label.copy()\n",
        "    for k, v in label_map.items():\n",
        "        mapped_label[label == k] = v\n",
        "    return mapped_label\n",
        "\n",
        "class BratsDataset(Dataset):\n",
        "    def __init__(self, root='brats_train', low_res=None,  isTrain=False):\n",
        "        self.img_path_all = glob(root + '/BraTS-GLI-t1c/*.png')\n",
        "        self.mask_path_all = [img_path.replace('t1c', 'seg') for img_path in self.img_path_all]\n",
        "        self.isTrain = isTrain\n",
        "        self.low_res = low_res\n",
        "\n",
        "    def __len__(self):\n",
        "      return len(self.img_path_all)\n",
        "\n",
        "    def __getitem__(self, index):\n",
        "        image = iio.imread(self.img_path_all[index])\n",
        "        image = normalise_intensity(image)\n",
        "        image = zoom(image, (512/image.shape[0], 512/image.shape[1]), order=0)\n",
        "        label = iio.imread(self.mask_path_all[index])\n",
        "        label = map_labels(label)\n",
        "        label = zoom(label, (512/label.shape[0], 512/label.shape[1]), order=0)\n",
        "        if self.isTrain:\n",
        "            if random.random() > 0.5:\n",
        "                image, label = random_rot_flip(image, label)\n",
        "            elif random.random() > 0.5:\n",
        "                image, label = random_rotate(image, label)\n",
        "\n",
        "        image = repeat(np.expand_dims(image, axis=0), 'c h w -> (repeat c) h w', repeat=3)\n",
        "        sample = {'image': image, 'label': label}\n",
        "        if self.low_res:\n",
        "            low_res_label = zoom(label, (self.low_res/label.shape[0], self.low_res/label.shape[1]), order=0)\n",
        "            sample = {'image': image, 'label': label, 'low_res_label': low_res_label}\n",
        "\n",
        "        return sample\n",
        "\n",
        "train_dataset = BratsDataset(root='Slices/Train', low_res=128, isTrain=True)\n",
        "test_dataset = BratsDataset(root='Slices/Test', low_res=128)\n",
        "print('Train Sample:', len(train_dataset), 'Test Sample:', len(test_dataset))\n",
        "sample = train_dataset[7]\n",
        "input, label, low_res_label = np.array(sample['image']), sample['label'], sample['low_res_label']\n",
        "plt.subplot(1,4,1), plt.axis('OFF'), plt.title('in:{}'.format(input.shape)), plt.imshow(input.transpose(1,2,0))\n",
        "plt.subplot(1,4,2), plt.axis('OFF'), plt.title('in:{}'.format(input[0].shape)), plt.imshow(input[0], cmap='gray')\n",
        "plt.subplot(1,4,3), plt.axis('OFF'), plt.title('lab:{}'.format(label.shape)), plt.imshow(label, cmap='gray');\n",
        "plt.subplot(1,4,4), plt.axis('OFF'), plt.title('low:{}'.format(low_res_label.shape)), plt.imshow(low_res_label, cmap='gray');"
      ],
      "metadata": {
        "colab": {
          "base_uri": "https://localhost:8080/",
          "height": 221
        },
        "id": "8w27C6DKCvOK",
        "outputId": "f4d85af4-ca5d-47aa-ffbf-58ab212bdfed"
      },
      "execution_count": 4,
      "outputs": [
        {
          "output_type": "stream",
          "name": "stdout",
          "text": [
            "/content\n"
          ]
        },
        {
          "output_type": "stream",
          "name": "stderr",
          "text": [
            "WARNING:matplotlib.image:Clipping input data to the valid range for imshow with RGB data ([0..1] for floats or [0..255] for integers).\n"
          ]
        },
        {
          "output_type": "stream",
          "name": "stdout",
          "text": [
            "Train Sample: 1395 Test Sample: 310\n"
          ]
        },
        {
          "output_type": "display_data",
          "data": {
            "text/plain": [
              "<Figure size 640x480 with 4 Axes>"
            ],
            "image/png": "[encoded data removed]"
          },
          "metadata": {}
        }
      ]
    },
    {
      "cell_type": "markdown",
      "source": [
        "SAM Training"
      ],
      "metadata": {
        "id": "8j2gsPPfB45E"
      }
    },
    {
      "cell_type": "code",
      "source": [
        "%cd /content/samed_codes\n",
        "import os\n",
        "import sys\n",
        "from tqdm import tqdm\n",
        "import logging\n",
        "import numpy as np\n",
        "import argparse\n",
        "import random\n",
        "import numpy as np\n",
        "import torch\n",
        "from torch.utils.data import DataLoader\n",
        "import torch.backends.cudnn as cudnn\n",
        "from importlib import import_module\n",
        "from segment_anything import sam_model_registry\n",
        "from datasets.dataset_synapse import Synapse_dataset\n",
        "from icecream import ic\n",
        "from medpy import metric\n",
        "from scipy.ndimage import zoom\n",
        "import torch.nn as nn\n",
        "import SimpleITK as sitk\n",
        "import torch.nn.functional as F\n",
        "import imageio\n",
        "from einops import repeat\n",
        "\n",
        "from torch.nn.modules.loss import CrossEntropyLoss\n",
        "from utils import DiceLoss\n",
        "import torch.optim as optim\n",
        "# from dataset_brats import BratsDataset\n",
        "\n",
        "\n",
        "def seed_everything(seed=42):\n",
        "    cudnn.benchmark = False\n",
        "    cudnn.deterministic = True\n",
        "    random.seed(seed)\n",
        "    np.random.seed(seed)\n",
        "    torch.manual_seed(seed)\n",
        "    torch.cuda.manual_seed(seed)\n",
        "\n",
        "def calc_loss(outputs, low_res_label_batch, ce_loss, dice_loss, dice_weight:float=0.8):\n",
        "    low_res_logits = outputs['low_res_logits']\n",
        "    loss_ce = ce_loss(low_res_logits, low_res_label_batch[:].long())\n",
        "    loss_dice = dice_loss(low_res_logits, low_res_label_batch, softmax=True)\n",
        "    loss = (1 - dice_weight) * loss_ce + dice_weight * loss_dice\n",
        "    return loss, loss_ce, loss_dice\n",
        "\n",
        "def training_per_epoch(model, trainloader, optimizer, iter_num, ce_loss, dice_loss, multimask_output=True, args=None):\n",
        "    model.train()\n",
        "    loss_all = []\n",
        "    for i_batch, sampled_batch in enumerate(trainloader):\n",
        "        image_batch, label_batch, low_res_label_batch = sampled_batch['image'],sampled_batch['label'], sampled_batch['low_res_label']\n",
        "        image_batch, label_batch, low_res_label_batch = image_batch.to(device, dtype=torch.float32), label_batch.to(device, dtype=torch.long), low_res_label_batch.to(device, dtype=torch.long)\n",
        "        outputs = model(image_batch, multimask_output, args.img_size)\n",
        "        loss, loss_ce, loss_dice = calc_loss(outputs, low_res_label_batch, ce_loss, dice_loss)\n",
        "        optimizer.zero_grad()\n",
        "        loss.backward()\n",
        "        optimizer.step()\n",
        "        loss_all.append(loss.item())\n",
        "        if args.warmup and iter_num < args.warmup_period:\n",
        "            lr_ = args.base_lr * ((iter_num + 1) / args.warmup_period)\n",
        "            for param_group in optimizer.param_groups:\n",
        "                param_group['lr'] = lr_\n",
        "        else:\n",
        "            if args.warmup:\n",
        "                shift_iter = iter_num - args.warmup_period\n",
        "                assert shift_iter >= 0, f'Shift iter is {shift_iter}, smaller than zero'\n",
        "            else:\n",
        "                shift_iter = iter_num\n",
        "            lr_ = args.base_lr * (1.0 - shift_iter / args.max_iterations) ** 0.9  # learning rate adjustment depends on the max iterations\n",
        "            for param_group in optimizer.param_groups:\n",
        "                param_group['lr'] = lr_\n",
        "\n",
        "        iter_num = iter_num + 1\n",
        "\n",
        "    return np.mean(loss_all)\n",
        "\n",
        "\n",
        "def test_per_epoch(model, testloader, ce_loss, dice_loss, multimask_output=True, args=None):\n",
        "    model.eval()\n",
        "    loss_per_epoch, dice_per_epoch = [], []\n",
        "    with torch.no_grad():\n",
        "        for i_batch, sampled_batch in enumerate(testloader):\n",
        "            image_batch, label_batch, low_res_label_batch = sampled_batch['image'],sampled_batch['label'], sampled_batch['low_res_label']\n",
        "            image_batch, label_batch, low_res_label_batch = image_batch.to(device, dtype=torch.float32), label_batch.to(device, dtype=torch.long), low_res_label_batch.to(device, dtype=torch.long)\n",
        "            outputs = model(image_batch, multimask_output, args.img_size)\n",
        "            loss, loss_ce, loss_dice = calc_loss(outputs, low_res_label_batch, ce_loss, dice_loss)\n",
        "            loss_per_epoch.append(loss.item())\n",
        "            dice_per_epoch.append(1-loss_dice.item())\n",
        "    return np.mean(loss_per_epoch), np.mean(dice_per_epoch)\n",
        "\n",
        "\n",
        "\n",
        "def main():\n",
        "    parser = argparse.ArgumentParser()\n",
        "    parser.add_argument('--config', type=str, default=None, help='The config file provided by the trained model')\n",
        "    parser.add_argument('--volume_path', type=str, default='testset/test_vol_h5/')\n",
        "    parser.add_argument('--dataset', type=str, default='Synapse', help='Experiment name')\n",
        "    parser.add_argument('--num_classes', type=int, default=3)\n",
        "    parser.add_argument('--list_dir', type=str, default='./lists/lists_Synapse/', help='list_dir')\n",
        "    parser.add_argument('--output_dir', type=str, default='results')\n",
        "    parser.add_argument('--img_size', type=int, default=512, help='Input image size of the network')\n",
        "    parser.add_argument('--input_size', type=int, default=224, help='The input size for training SAM model')\n",
        "    parser.add_argument('--seed', type=int,\n",
        "                        default=1234, help='random seed')\n",
        "    parser.add_argument('--is_savenii', action='store_true', help='Whether to save results during inference')\n",
        "    parser.add_argument('--deterministic', type=int, default=1, help='whether use deterministic training')\n",
        "    parser.add_argument('--ckpt', type=str, default='checkpoints/sam_vit_b_01ec64.pth',\n",
        "                        help='Pretrained checkpoint')\n",
        "    parser.add_argument('--lora_ckpt', type=str, default='checkpoints/epoch_159.pth', help='The checkpoint from LoRA')\n",
        "    parser.add_argument('--vit_name', type=str, default='vit_b', help='Select one vit model')\n",
        "    parser.add_argument('--rank', type=int, default=4, help='Rank for LoRA adaptation')\n",
        "    parser.add_argument('--module', type=str, default='sam_lora_image_encoder')\n",
        "\n",
        "    parser.add_argument('--base_lr', type=float, default=0.005, help='segmentation network learning rate')\n",
        "    parser.add_argument('--batch_size', type=int, default=12, help='batch_size per gpu')\n",
        "    parser.add_argument('--warmup', type=bool, default=True, help='If activated, warp up the learning from a lower lr to the base_lr')\n",
        "    parser.add_argument('--warmup_period', type=int, default=250, help='Warp up iterations, only valid whrn warmup is activated')\n",
        "    parser.add_argument('--AdamW', type=bool, default=True, help='If activated, use AdamW to finetune SAM model')\n",
        "    parser.add_argument('--max_epochs', type=int, default=80, help='maximum epoch number to train')\n",
        "    parser.add_argument('--max_iterations', type=int, default=30000, help='maximum epoch number to train')\n",
        "\n",
        "\n",
        "    if 'ipykernel' in sys.modules:\n",
        "        args = parser.parse_args([])\n",
        "    else:\n",
        "        args = parser.parse_args()\n",
        "\n",
        "    args.output_dir = 'results'\n",
        "    args.ckpt = 'sam_vit_b_01ec64.pth'\n",
        "    args.lora_ckpt = 'epoch_159.pth'\n",
        "    os.makedirs(args.output_dir, exist_ok = True)\n",
        "\n",
        "    sam, img_embedding_size = sam_model_registry[args.vit_name](image_size=args.img_size,\n",
        "                                                                    num_classes=args.num_classes,\n",
        "                                                                    checkpoint=args.ckpt, pixel_mean=[0, 0, 0],\n",
        "                                                                    pixel_std=[1, 1, 1])\n",
        "\n",
        "    pkg = import_module(args.module)\n",
        "    net = pkg.LoRA_Sam(sam, args.rank).cuda()\n",
        "    # net.load_lora_parameters(args.lora_ckpt)\n",
        "    multimask_output = True if args.num_classes > 1 else False\n",
        "    train_dataset = BratsDataset(root='Slices/Train', low_res=128, isTrain=True)\n",
        "    test_dataset = BratsDataset(root='Slices/Test', low_res=128)\n",
        "    trainloader = DataLoader(train_dataset, batch_size=args.batch_size, shuffle=True, num_workers=2)\n",
        "    testloader = DataLoader(test_dataset, batch_size=args.batch_size, shuffle=False, num_workers=2)\n",
        "    print('Training on:', device, 'train sample size:', len(train_dataset), 'test sample size:', len(test_dataset), 'batch:', args.batch_size)\n",
        "\n",
        "    ce_loss = CrossEntropyLoss()\n",
        "    dice_loss = DiceLoss(args.num_classes + 1)\n",
        "    b_lr = args.base_lr / args.warmup_period\n",
        "    optimizer = optim.AdamW(filter(lambda p: p.requires_grad, net.parameters()), lr=b_lr, betas=(0.9, 0.999), weight_decay=0.1)\n",
        "    iter_num = 0\n",
        "\n",
        "    best_epoch, best_loss = 0.0, np.inf\n",
        "    for epoch in range(args.max_epochs):\n",
        "        loss_training = training_per_epoch(net, trainloader, optimizer, iter_num, ce_loss, dice_loss, multimask_output=multimask_output, args=args)\n",
        "        loss_testing, dice = test_per_epoch(net, testloader, ce_loss, dice_loss,multimask_output=True, args=args)\n",
        "\n",
        "        if loss_testing < best_loss:\n",
        "            best_loss = loss_testing\n",
        "            best_epoch = epoch\n",
        "            net.save_lora_parameters(os.path.join(args.output_dir, 'model_best.pt'))\n",
        "\n",
        "        print('--- Epoch {}\\{}: Training loss = {:.4f}, Testing: [loss = {:.4f}, dice = {:.4f}], Best loss = {:.4f}, Best epoch = {}, lr = {:.6f}'.\\\n",
        "            format(epoch, args.max_epochs, loss_training, loss_testing, dice, best_loss, best_epoch, optimizer.param_groups[0]['lr']))\n",
        "\n",
        "\n",
        "if __name__ == '__main__':\n",
        "    seed_everything()\n",
        "    device = 'cuda' if torch.cuda.is_available() else 'cpu'\n",
        "    main()\n",
        "\n"
      ],
      "metadata": {
        "id": "MXw9Wa1dDFET",
        "colab": {
          "base_uri": "https://localhost:8080/"
        },
        "outputId": "5a0fed70-5df4-4e5a-fb34-5834a46b88e6"
      },
      "execution_count": 5,
      "outputs": [
        {
          "output_type": "stream",
          "name": "stdout",
          "text": [
            "/content\n",
            "Training on: cuda train sample size: 1395 test sample size: 310 batch: 12\n",
            "--- Epoch 0\\80: Training loss = 0.5653, Testing: [loss = 0.5657, dice = 0.3285], Best loss = 0.5657, Best epoch = 0, lr = 0.002340\n",
            "--- Epoch 1\\80: Training loss = 0.4516, Testing: [loss = 0.3954, dice = 0.5243], Best loss = 0.3954, Best epoch = 1, lr = 0.002340\n",
            "--- Epoch 2\\80: Training loss = 0.3426, Testing: [loss = 0.3934, dice = 0.5285], Best loss = 0.3934, Best epoch = 2, lr = 0.002340\n",
            "--- Epoch 3\\80: Training loss = 0.2938, Testing: [loss = 0.2436, dice = 0.7093], Best loss = 0.2436, Best epoch = 3, lr = 0.002340\n",
            "--- Epoch 4\\80: Training loss = 0.2998, Testing: [loss = 0.2264, dice = 0.7284], Best loss = 0.2264, Best epoch = 4, lr = 0.002340\n",
            "--- Epoch 5\\80: Training loss = 0.2377, Testing: [loss = 0.2657, dice = 0.6816], Best loss = 0.2264, Best epoch = 4, lr = 0.002340\n",
            "--- Epoch 6\\80: Training loss = 0.2348, Testing: [loss = 0.2407, dice = 0.7104], Best loss = 0.2264, Best epoch = 4, lr = 0.002340\n",
            "--- Epoch 7\\80: Training loss = 0.2320, Testing: [loss = 0.2484, dice = 0.7010], Best loss = 0.2264, Best epoch = 4, lr = 0.002340\n",
            "--- Epoch 8\\80: Training loss = 0.2367, Testing: [loss = 0.2394, dice = 0.7122], Best loss = 0.2264, Best epoch = 4, lr = 0.002340\n",
            "--- Epoch 9\\80: Training loss = 0.2081, Testing: [loss = 0.2282, dice = 0.7281], Best loss = 0.2264, Best epoch = 4, lr = 0.002340\n",
            "--- Epoch 10\\80: Training loss = 0.1909, Testing: [loss = 0.2692, dice = 0.6736], Best loss = 0.2264, Best epoch = 4, lr = 0.002340\n",
            "--- Epoch 11\\80: Training loss = 0.2205, Testing: [loss = 0.3518, dice = 0.5773], Best loss = 0.2264, Best epoch = 4, lr = 0.002340\n",
            "--- Epoch 12\\80: Training loss = 0.2080, Testing: [loss = 0.2245, dice = 0.7362], Best loss = 0.2245, Best epoch = 12, lr = 0.002340\n",
            "--- Epoch 13\\80: Training loss = 0.2105, Testing: [loss = 0.1878, dice = 0.7729], Best loss = 0.1878, Best epoch = 13, lr = 0.002340\n",
            "--- Epoch 14\\80: Training loss = 0.2122, Testing: [loss = 0.5817, dice = 0.3071], Best loss = 0.1878, Best epoch = 13, lr = 0.002340\n",
            "--- Epoch 15\\80: Training loss = 0.3016, Testing: [loss = 0.2004, dice = 0.7574], Best loss = 0.1878, Best epoch = 13, lr = 0.002340\n",
            "--- Epoch 16\\80: Training loss = 0.2045, Testing: [loss = 0.1811, dice = 0.7806], Best loss = 0.1811, Best epoch = 16, lr = 0.002340\n",
            "--- Epoch 17\\80: Training loss = 0.1981, Testing: [loss = 0.1738, dice = 0.7898], Best loss = 0.1738, Best epoch = 17, lr = 0.002340\n",
            "--- Epoch 18\\80: Training loss = 0.1774, Testing: [loss = 0.1745, dice = 0.7895], Best loss = 0.1738, Best epoch = 17, lr = 0.002340\n",
            "--- Epoch 19\\80: Training loss = 0.1766, Testing: [loss = 0.1981, dice = 0.7620], Best loss = 0.1738, Best epoch = 17, lr = 0.002340\n",
            "--- Epoch 20\\80: Training loss = 0.1706, Testing: [loss = 0.1752, dice = 0.7883], Best loss = 0.1738, Best epoch = 17, lr = 0.002340\n",
            "--- Epoch 21\\80: Training loss = 0.1658, Testing: [loss = 0.2027, dice = 0.7545], Best loss = 0.1738, Best epoch = 17, lr = 0.002340\n",
            "--- Epoch 22\\80: Training loss = 0.1741, Testing: [loss = 0.2004, dice = 0.7597], Best loss = 0.1738, Best epoch = 17, lr = 0.002340\n",
            "--- Epoch 23\\80: Training loss = 0.1966, Testing: [loss = 0.2003, dice = 0.7578], Best loss = 0.1738, Best epoch = 17, lr = 0.002340\n",
            "--- Epoch 24\\80: Training loss = 0.1794, Testing: [loss = 0.2206, dice = 0.7343], Best loss = 0.1738, Best epoch = 17, lr = 0.002340\n",
            "--- Epoch 25\\80: Training loss = 0.1717, Testing: [loss = 0.2064, dice = 0.7532], Best loss = 0.1738, Best epoch = 17, lr = 0.002340\n",
            "--- Epoch 26\\80: Training loss = 0.1730, Testing: [loss = 0.1821, dice = 0.7793], Best loss = 0.1738, Best epoch = 17, lr = 0.002340\n",
            "--- Epoch 27\\80: Training loss = 0.1823, Testing: [loss = 0.4601, dice = 0.4583], Best loss = 0.1738, Best epoch = 17, lr = 0.002340\n",
            "--- Epoch 28\\80: Training loss = 0.3337, Testing: [loss = 0.2146, dice = 0.7430], Best loss = 0.1738, Best epoch = 17, lr = 0.002340\n",
            "--- Epoch 29\\80: Training loss = 0.2023, Testing: [loss = 0.1994, dice = 0.7636], Best loss = 0.1738, Best epoch = 17, lr = 0.002340\n",
            "--- Epoch 30\\80: Training loss = 0.1834, Testing: [loss = 0.1759, dice = 0.7869], Best loss = 0.1738, Best epoch = 17, lr = 0.002340\n",
            "--- Epoch 31\\80: Training loss = 0.1633, Testing: [loss = 0.1705, dice = 0.7934], Best loss = 0.1705, Best epoch = 31, lr = 0.002340\n",
            "--- Epoch 32\\80: Training loss = 0.1963, Testing: [loss = 0.5284, dice = 0.3720], Best loss = 0.1705, Best epoch = 31, lr = 0.002340\n",
            "--- Epoch 33\\80: Training loss = 0.3471, Testing: [loss = 0.1985, dice = 0.7604], Best loss = 0.1705, Best epoch = 31, lr = 0.002340\n",
            "--- Epoch 34\\80: Training loss = 0.1715, Testing: [loss = 0.2396, dice = 0.7117], Best loss = 0.1705, Best epoch = 31, lr = 0.002340\n",
            "--- Epoch 35\\80: Training loss = 0.1730, Testing: [loss = 0.2217, dice = 0.7324], Best loss = 0.1705, Best epoch = 31, lr = 0.002340\n",
            "--- Epoch 36\\80: Training loss = 0.1635, Testing: [loss = 0.1842, dice = 0.7770], Best loss = 0.1705, Best epoch = 31, lr = 0.002340\n",
            "--- Epoch 37\\80: Training loss = 0.1638, Testing: [loss = 0.1903, dice = 0.7688], Best loss = 0.1705, Best epoch = 31, lr = 0.002340\n",
            "--- Epoch 38\\80: Training loss = 0.1665, Testing: [loss = 0.1813, dice = 0.7805], Best loss = 0.1705, Best epoch = 31, lr = 0.002340\n",
            "--- Epoch 39\\80: Training loss = 0.1503, Testing: [loss = 0.1962, dice = 0.7630], Best loss = 0.1705, Best epoch = 31, lr = 0.002340\n",
            "--- Epoch 40\\80: Training loss = 0.1903, Testing: [loss = 0.2063, dice = 0.7526], Best loss = 0.1705, Best epoch = 31, lr = 0.002340\n",
            "--- Epoch 41\\80: Training loss = 0.1773, Testing: [loss = 0.2312, dice = 0.7269], Best loss = 0.1705, Best epoch = 31, lr = 0.002340\n",
            "--- Epoch 42\\80: Training loss = 0.1853, Testing: [loss = 0.3746, dice = 0.5591], Best loss = 0.1705, Best epoch = 31, lr = 0.002340\n",
            "--- Epoch 43\\80: Training loss = 0.2022, Testing: [loss = 0.2206, dice = 0.7334], Best loss = 0.1705, Best epoch = 31, lr = 0.002340\n",
            "--- Epoch 44\\80: Training loss = 0.1870, Testing: [loss = 0.2799, dice = 0.6618], Best loss = 0.1705, Best epoch = 31, lr = 0.002340\n",
            "--- Epoch 45\\80: Training loss = 0.1787, Testing: [loss = 0.2125, dice = 0.7444], Best loss = 0.1705, Best epoch = 31, lr = 0.002340\n",
            "--- Epoch 46\\80: Training loss = 0.1759, Testing: [loss = 0.2057, dice = 0.7506], Best loss = 0.1705, Best epoch = 31, lr = 0.002340\n",
            "--- Epoch 47\\80: Training loss = 0.2089, Testing: [loss = 0.2162, dice = 0.7416], Best loss = 0.1705, Best epoch = 31, lr = 0.002340\n",
            "--- Epoch 48\\80: Training loss = 0.1787, Testing: [loss = 0.1925, dice = 0.7676], Best loss = 0.1705, Best epoch = 31, lr = 0.002340\n",
            "--- Epoch 49\\80: Training loss = 0.1686, Testing: [loss = 0.1813, dice = 0.7802], Best loss = 0.1705, Best epoch = 31, lr = 0.002340\n",
            "--- Epoch 50\\80: Training loss = 0.1592, Testing: [loss = 0.1989, dice = 0.7592], Best loss = 0.1705, Best epoch = 31, lr = 0.002340\n",
            "--- Epoch 51\\80: Training loss = 0.1456, Testing: [loss = 0.1844, dice = 0.7773], Best loss = 0.1705, Best epoch = 31, lr = 0.002340\n",
            "--- Epoch 52\\80: Training loss = 0.1485, Testing: [loss = 0.2424, dice = 0.7073], Best loss = 0.1705, Best epoch = 31, lr = 0.002340\n",
            "--- Epoch 53\\80: Training loss = 0.1817, Testing: [loss = 0.2153, dice = 0.7446], Best loss = 0.1705, Best epoch = 31, lr = 0.002340\n",
            "--- Epoch 54\\80: Training loss = 0.1669, Testing: [loss = 0.2077, dice = 0.7527], Best loss = 0.1705, Best epoch = 31, lr = 0.002340\n",
            "--- Epoch 55\\80: Training loss = 0.1651, Testing: [loss = 0.1856, dice = 0.7772], Best loss = 0.1705, Best epoch = 31, lr = 0.002340\n",
            "--- Epoch 56\\80: Training loss = 0.1621, Testing: [loss = 0.1754, dice = 0.7879], Best loss = 0.1705, Best epoch = 31, lr = 0.002340\n",
            "--- Epoch 57\\80: Training loss = 0.1534, Testing: [loss = 0.1924, dice = 0.7688], Best loss = 0.1705, Best epoch = 31, lr = 0.002340\n",
            "--- Epoch 58\\80: Training loss = 0.1506, Testing: [loss = 0.1769, dice = 0.7860], Best loss = 0.1705, Best epoch = 31, lr = 0.002340\n",
            "--- Epoch 59\\80: Training loss = 0.1686, Testing: [loss = 0.2106, dice = 0.7462], Best loss = 0.1705, Best epoch = 31, lr = 0.002340\n",
            "--- Epoch 60\\80: Training loss = 0.1684, Testing: [loss = 0.1816, dice = 0.7800], Best loss = 0.1705, Best epoch = 31, lr = 0.002340\n",
            "--- Epoch 61\\80: Training loss = 0.1539, Testing: [loss = 0.1821, dice = 0.7797], Best loss = 0.1705, Best epoch = 31, lr = 0.002340\n",
            "--- Epoch 62\\80: Training loss = 0.1556, Testing: [loss = 0.1808, dice = 0.7818], Best loss = 0.1705, Best epoch = 31, lr = 0.002340\n",
            "--- Epoch 63\\80: Training loss = 0.1365, Testing: [loss = 0.1983, dice = 0.7606], Best loss = 0.1705, Best epoch = 31, lr = 0.002340\n",
            "--- Epoch 64\\80: Training loss = 0.1410, Testing: [loss = 0.1623, dice = 0.8033], Best loss = 0.1623, Best epoch = 64, lr = 0.002340\n",
            "--- Epoch 65\\80: Training loss = 0.1345, Testing: [loss = 0.1980, dice = 0.7616], Best loss = 0.1623, Best epoch = 64, lr = 0.002340\n",
            "--- Epoch 66\\80: Training loss = 0.1389, Testing: [loss = 0.1890, dice = 0.7715], Best loss = 0.1623, Best epoch = 64, lr = 0.002340\n",
            "--- Epoch 67\\80: Training loss = 0.1521, Testing: [loss = 0.2156, dice = 0.7396], Best loss = 0.1623, Best epoch = 64, lr = 0.002340\n",
            "--- Epoch 68\\80: Training loss = 0.1464, Testing: [loss = 0.1788, dice = 0.7841], Best loss = 0.1623, Best epoch = 64, lr = 0.002340\n",
            "--- Epoch 69\\80: Training loss = 0.1336, Testing: [loss = 0.2173, dice = 0.7408], Best loss = 0.1623, Best epoch = 64, lr = 0.002340\n",
            "--- Epoch 70\\80: Training loss = 0.1463, Testing: [loss = 0.1702, dice = 0.7938], Best loss = 0.1623, Best epoch = 64, lr = 0.002340\n",
            "--- Epoch 71\\80: Training loss = 0.1370, Testing: [loss = 0.1735, dice = 0.7902], Best loss = 0.1623, Best epoch = 64, lr = 0.002340\n",
            "--- Epoch 72\\80: Training loss = 0.1470, Testing: [loss = 0.1851, dice = 0.7770], Best loss = 0.1623, Best epoch = 64, lr = 0.002340\n",
            "--- Epoch 73\\80: Training loss = 0.1310, Testing: [loss = 0.1910, dice = 0.7703], Best loss = 0.1623, Best epoch = 64, lr = 0.002340\n",
            "--- Epoch 74\\80: Training loss = 0.1392, Testing: [loss = 0.1723, dice = 0.7935], Best loss = 0.1623, Best epoch = 64, lr = 0.002340\n",
            "--- Epoch 75\\80: Training loss = 0.1491, Testing: [loss = 0.1991, dice = 0.7580], Best loss = 0.1623, Best epoch = 64, lr = 0.002340\n",
            "--- Epoch 76\\80: Training loss = 0.1532, Testing: [loss = 0.1770, dice = 0.7854], Best loss = 0.1623, Best epoch = 64, lr = 0.002340\n",
            "--- Epoch 77\\80: Training loss = 0.1489, Testing: [loss = 0.1810, dice = 0.7818], Best loss = 0.1623, Best epoch = 64, lr = 0.002340\n",
            "--- Epoch 78\\80: Training loss = 0.1353, Testing: [loss = 0.1965, dice = 0.7642], Best loss = 0.1623, Best epoch = 64, lr = 0.002340\n",
            "--- Epoch 79\\80: Training loss = 0.1404, Testing: [loss = 0.2157, dice = 0.7394], Best loss = 0.1623, Best epoch = 64, lr = 0.002340\n"
          ]
        }
      ]
    },
    {
      "cell_type": "markdown",
      "source": [
        "Inference: SAMed Dice Metrics"
      ],
      "metadata": {
        "id": "cECVmRk50nkC"
      }
    },
    {
      "cell_type": "code",
      "source": [
        "import matplotlib.pyplot as plt\n",
        "\n",
        "def calculate_metric_percase(pred, gt):\n",
        "    pred[pred > 0] = 1\n",
        "    gt[gt > 0] = 1\n",
        "    if pred.sum() > 0 and gt.sum() > 0:\n",
        "        dice = metric.binary.dc(pred, gt)\n",
        "        hd95 = metric.binary.hd95(pred, gt)\n",
        "        return dice, hd95\n",
        "    elif pred.sum() > 0 and gt.sum() == 0:\n",
        "        return 1, 0\n",
        "    else:\n",
        "        return 0, 0\n",
        "\n",
        "def test_per_epoch(model, testloader, ce_loss, dice_loss, multimask_output=True, args=None):\n",
        "    model.eval()\n",
        "    fig, axs = plt.subplots(len(testloader), 3, figsize=(1*3, len(testloader)*1), subplot_kw=dict(xticks=[],yticks=[]))\n",
        "    loss_per_epoch, dice_per_epoch = [], []\n",
        "    metric_list_all = 0.0\n",
        "    with torch.no_grad():\n",
        "        for i_batch, sampled_batch in enumerate(testloader):\n",
        "            image_batch, label_batch, low_res_label_batch = sampled_batch['image'],sampled_batch['label'], sampled_batch['low_res_label']\n",
        "            image_batch, label_batch, low_res_label_batch = image_batch.to(device, dtype=torch.float32), label_batch.to(device, dtype=torch.long), low_res_label_batch.to(device, dtype=torch.long)\n",
        "            outputs = model(image_batch, multimask_output, args.img_size)\n",
        "            logits = outputs['masks']\n",
        "            prob = F.softmax(logits, dim=1)\n",
        "            pred_seg = torch.argmax(prob, dim=1)\n",
        "            loss, loss_ce, loss_dice = calc_loss(outputs, low_res_label_batch, ce_loss, dice_loss)\n",
        "            loss_per_epoch.append(loss.item())\n",
        "            dice_per_epoch.append(1-loss_dice.item())\n",
        "            low_res_logits = outputs['low_res_logits']\n",
        "            loss_dice = dice_loss(low_res_logits, low_res_label_batch, softmax=True)\n",
        "            img_num = 0\n",
        "            axs[i_batch, 0].imshow(image_batch[img_num, 0].cpu().numpy(), cmap='gray')\n",
        "            axs[i_batch, 1].imshow(label_batch[img_num].cpu().numpy(), cmap='gray')\n",
        "            axs[i_batch, 2].imshow(pred_seg[img_num].cpu().numpy(), cmap='gray')\n",
        "            metric_list = []\n",
        "            pred_seg, label_batch = pred_seg.cpu().detach().numpy(), label_batch.cpu().detach().numpy()\n",
        "            for i in range(1, args.num_classes + 1):\n",
        "                metric_list.append(calculate_metric_percase(pred_seg == i, label_batch == i))\n",
        "            metric_list_all += np.array(metric_list)\n",
        "\n",
        "    return np.mean(loss_per_epoch), np.mean(dice_per_epoch), metric_list_all/len(testloader)\n",
        "\n",
        "\n",
        "\n",
        "if __name__ == '__main__':\n",
        "    parser = argparse.ArgumentParser()\n",
        "    parser.add_argument('--config', type=str, default=None, help='The config file provided by the trained model')\n",
        "    parser.add_argument('--volume_path', type=str, default='testset/test_vol_h5/')\n",
        "    parser.add_argument('--dataset', type=str, default='Synapse', help='Experiment name')\n",
        "    parser.add_argument('--num_classes', type=int, default=3)\n",
        "    parser.add_argument('--list_dir', type=str, default='./lists/lists_Synapse/', help='list_dir')\n",
        "    parser.add_argument('--output_dir', type=str, default='results')\n",
        "    parser.add_argument('--img_size', type=int, default=512, help='Input image size of the network')\n",
        "    parser.add_argument('--input_size', type=int, default=224, help='The input size for training SAM model')\n",
        "    parser.add_argument('--seed', type=int,\n",
        "                        default=1234, help='random seed')\n",
        "    parser.add_argument('--is_savenii', action='store_true', help='Whether to save results during inference')\n",
        "    parser.add_argument('--deterministic', type=int, default=1, help='whether use deterministic training')\n",
        "    parser.add_argument('--ckpt', type=str, default='checkpoints/sam_vit_b_01ec64.pth',\n",
        "                        help='Pretrained checkpoint')\n",
        "    parser.add_argument('--lora_ckpt', type=str, default='checkpoints/epoch_159.pth', help='The checkpoint from LoRA')\n",
        "    parser.add_argument('--vit_name', type=str, default='vit_b', help='Select one vit model')\n",
        "    parser.add_argument('--rank', type=int, default=4, help='Rank for LoRA adaptation')\n",
        "    parser.add_argument('--module', type=str, default='sam_lora_image_encoder')\n",
        "\n",
        "    parser.add_argument('--base_lr', type=float, default=0.005, help='segmentation network learning rate')\n",
        "    parser.add_argument('--batch_size', type=int, default=12, help='batch_size per gpu')\n",
        "    parser.add_argument('--warmup', type=bool, default=True, help='If activated, warp up the learning from a lower lr to the base_lr')\n",
        "    parser.add_argument('--warmup_period', type=int, default=250, help='Warp up iterations, only valid whrn warmup is activated')\n",
        "    parser.add_argument('--AdamW', type=bool, default=True, help='If activated, use AdamW to finetune SAM model')\n",
        "    parser.add_argument('--max_epochs', type=int, default=10, help='maximum epoch number to train')\n",
        "    parser.add_argument('--max_iterations', type=int, default=30000, help='maximum epoch number to train')\n",
        "\n",
        "\n",
        "    if 'ipykernel' in sys.modules:\n",
        "        args = parser.parse_args([])\n",
        "    else:\n",
        "        args = parser.parse_args()\n",
        "\n",
        "    args.ckpt = 'sam_vit_b_01ec64.pth'\n",
        "    args.lora_ckpt = 'results/model_best.pt'\n",
        "    sam, img_embedding_size = sam_model_registry[args.vit_name](image_size=args.img_size,\n",
        "                                                                    num_classes=args.num_classes,\n",
        "                                                                    checkpoint=args.ckpt, pixel_mean=[0, 0, 0],\n",
        "                                                                    pixel_std=[1, 1, 1])\n",
        "\n",
        "    pkg = import_module(args.module)\n",
        "    net = pkg.LoRA_Sam(sam, args.rank).cuda()\n",
        "    ce_loss = CrossEntropyLoss()\n",
        "    dice_loss = DiceLoss(args.num_classes + 1)\n",
        "\n",
        "    assert args.lora_ckpt is not None\n",
        "    net.load_lora_parameters(args.lora_ckpt)\n",
        "    testloader = DataLoader(test_dataset, batch_size=20, shuffle=False, num_workers=2)\n",
        "    test_loss, overall_dice, metric_list = test_per_epoch(net, testloader, ce_loss, dice_loss, multimask_output=True, args=args)\n",
        "    print('Overall Dice:', overall_dice)\n",
        "    for i in range(1, args.num_classes + 1):\n",
        "        print('Mean class %d mean_dice %f mean_hd95 %f' % (i, metric_list[i - 1][0], metric_list[i - 1][1]))\n"
      ],
      "metadata": {
        "id": "FFr28vJ8xH5M",
        "colab": {
          "base_uri": "https://localhost:8080/",
          "height": 1000
        },
        "outputId": "fca802bf-3156-4c5d-c2b8-cd96f20003fd"
      },
      "execution_count": 6,
      "outputs": [
        {
          "output_type": "stream",
          "name": "stdout",
          "text": [
            "Overall Dice: 0.8170868391171098\n",
            "Mean class 1 mean_dice 0.852037 mean_hd95 2.412527\n",
            "Mean class 2 mean_dice 0.608422 mean_hd95 11.919167\n",
            "Mean class 3 mean_dice 0.713830 mean_hd95 8.080759\n"
          ]
        },
        {
          "output_type": "display_data",
          "data": {
            "text/plain": [
              "<Figure size 300x1600 with 48 Axes>"
            ],
            "image/png": "[encoded data removed]"
          },
          "metadata": {}
        }
      ]
    },
    {
      "cell_type": "markdown",
      "source": [
        "Inference: My Dice Metrics"
      ],
      "metadata": {
        "id": "dupTnYetNuNe"
      }
    },
    {
      "cell_type": "code",
      "source": [
        "import matplotlib.pyplot as plt\n",
        "import numpy as np\n",
        "\n",
        "def calculate_confusion_matrix_from_arrays(prediction, ground_truth, nr_labels):\n",
        "    replace_indices = np.vstack((\n",
        "        ground_truth.flatten(),\n",
        "        prediction.flatten())\n",
        "    ).T\n",
        "    confusion_matrix, _ = np.histogramdd(\n",
        "        replace_indices,\n",
        "        bins=(nr_labels, nr_labels),\n",
        "        range=[(0, nr_labels), (0, nr_labels)]\n",
        "    )\n",
        "    confusion_matrix = confusion_matrix.astype(np.uint32)\n",
        "    return confusion_matrix\n",
        "\n",
        "def calculate_dice(confusion_matrix):\n",
        "    dices = []\n",
        "    for index in range(confusion_matrix.shape[0]):\n",
        "        true_positives = confusion_matrix[index, index]\n",
        "        false_positives = confusion_matrix[:, index].sum() - true_positives\n",
        "        false_negatives = confusion_matrix[index, :].sum() - true_positives\n",
        "        denom = 2 * true_positives + false_positives + false_negatives\n",
        "        if denom == 0:\n",
        "            dice = 0\n",
        "        else:\n",
        "            dice = 2 * float(true_positives) / denom\n",
        "        dices.append(dice)\n",
        "    return dices\n",
        "\n",
        "def test_per_epoch(model, testloader, ce_loss, dice_loss, multimask_output=True, args=None):\n",
        "    model.eval()\n",
        "    fig, axs = plt.subplots(len(testloader), 3, figsize=(1*3, len(testloader)*1), subplot_kw=dict(xticks=[],yticks=[]))\n",
        "    loss_per_epoch, dice_per_epoch = [], []\n",
        "    num_classes = args.num_classes + 1\n",
        "    confusion_matrix = np.zeros((num_classes, num_classes), dtype=np.uint32)\n",
        "    class_wise_dice = []\n",
        "    with torch.no_grad():\n",
        "        for i_batch, sampled_batch in enumerate(testloader):\n",
        "            image_batch, label_batch, low_res_label_batch = sampled_batch['image'],sampled_batch['label'], sampled_batch['low_res_label']\n",
        "            image_batch, label_batch, low_res_label_batch = image_batch.to(device, dtype=torch.float32), label_batch.to(device, dtype=torch.long), low_res_label_batch.to(device, dtype=torch.long)\n",
        "            outputs = model(image_batch, multimask_output, args.img_size)\n",
        "            logits = outputs['masks']\n",
        "            prob = F.softmax(logits, dim=1)\n",
        "            pred_seg = torch.argmax(prob, dim=1)\n",
        "            confusion_matrix += calculate_confusion_matrix_from_arrays(pred_seg.cpu(), label_batch.cpu(), num_classes)\n",
        "            loss, loss_ce, loss_dice = calc_loss(outputs, low_res_label_batch, ce_loss, dice_loss)\n",
        "            loss_per_epoch.append(loss.item())\n",
        "            dice_per_epoch.append(1-loss_dice.item())\n",
        "            low_res_logits = outputs['low_res_logits']\n",
        "            loss_dice = dice_loss(low_res_logits, low_res_label_batch, softmax=True)\n",
        "            img_num = 0\n",
        "            axs[i_batch, 0].imshow(image_batch[img_num, 0].cpu().numpy(), cmap='gray')\n",
        "            axs[i_batch, 1].imshow(label_batch[img_num].cpu().numpy(), cmap='gray')\n",
        "            axs[i_batch, 2].imshow(pred_seg[img_num].cpu().numpy(), cmap='gray')\n",
        "            metric_list = []\n",
        "            pred_seg, label_batch = pred_seg.cpu().detach().numpy(), label_batch.cpu().detach().numpy()\n",
        "\n",
        "        confusion_matrix = confusion_matrix[1:, 1:]  # exclude background\n",
        "        dices_per_class = {'dice_cls:{}'.format(cls + 1): dice\n",
        "                    for cls, dice in enumerate(calculate_dice(confusion_matrix))}\n",
        "\n",
        "    return np.mean(loss_per_epoch), np.mean(dice_per_epoch), dices_per_class\n",
        "\n",
        "\n",
        "\n",
        "if __name__ == '__main__':\n",
        "    parser = argparse.ArgumentParser()\n",
        "    parser.add_argument('--config', type=str, default=None, help='The config file provided by the trained model')\n",
        "    parser.add_argument('--volume_path', type=str, default='testset/test_vol_h5/')\n",
        "    parser.add_argument('--dataset', type=str, default='Synapse', help='Experiment name')\n",
        "    parser.add_argument('--num_classes', type=int, default=3)\n",
        "    parser.add_argument('--list_dir', type=str, default='./lists/lists_Synapse/', help='list_dir')\n",
        "    parser.add_argument('--output_dir', type=str, default='results')\n",
        "    parser.add_argument('--img_size', type=int, default=512, help='Input image size of the network')\n",
        "    parser.add_argument('--input_size', type=int, default=224, help='The input size for training SAM model')\n",
        "    parser.add_argument('--seed', type=int,\n",
        "                        default=1234, help='random seed')\n",
        "    parser.add_argument('--is_savenii', action='store_true', help='Whether to save results during inference')\n",
        "    parser.add_argument('--deterministic', type=int, default=1, help='whether use deterministic training')\n",
        "    parser.add_argument('--ckpt', type=str, default='checkpoints/sam_vit_b_01ec64.pth',\n",
        "                        help='Pretrained checkpoint')\n",
        "    parser.add_argument('--lora_ckpt', type=str, default='checkpoints/epoch_159.pth', help='The checkpoint from LoRA')\n",
        "    parser.add_argument('--vit_name', type=str, default='vit_b', help='Select one vit model')\n",
        "    parser.add_argument('--rank', type=int, default=4, help='Rank for LoRA adaptation')\n",
        "    parser.add_argument('--module', type=str, default='sam_lora_image_encoder')\n",
        "\n",
        "    parser.add_argument('--base_lr', type=float, default=0.005, help='segmentation network learning rate')\n",
        "    parser.add_argument('--batch_size', type=int, default=12, help='batch_size per gpu')\n",
        "    parser.add_argument('--warmup', type=bool, default=True, help='If activated, warp up the learning from a lower lr to the base_lr')\n",
        "    parser.add_argument('--warmup_period', type=int, default=250, help='Warp up iterations, only valid whrn warmup is activated')\n",
        "    parser.add_argument('--AdamW', type=bool, default=True, help='If activated, use AdamW to finetune SAM model')\n",
        "    parser.add_argument('--max_epochs', type=int, default=10, help='maximum epoch number to train')\n",
        "    parser.add_argument('--max_iterations', type=int, default=30000, help='maximum epoch number to train')\n",
        "\n",
        "\n",
        "    if 'ipykernel' in sys.modules:\n",
        "        args = parser.parse_args([])\n",
        "    else:\n",
        "        args = parser.parse_args()\n",
        "\n",
        "    args.ckpt = 'sam_vit_b_01ec64.pth'\n",
        "    args.lora_ckpt = 'results/model_best.pt'\n",
        "    sam, img_embedding_size = sam_model_registry[args.vit_name](image_size=args.img_size,\n",
        "                                                                    num_classes=args.num_classes,\n",
        "                                                                    checkpoint=args.ckpt, pixel_mean=[0, 0, 0],\n",
        "                                                                    pixel_std=[1, 1, 1])\n",
        "\n",
        "    pkg = import_module(args.module)\n",
        "    net = pkg.LoRA_Sam(sam, args.rank).cuda()\n",
        "    ce_loss = CrossEntropyLoss()\n",
        "    dice_loss = DiceLoss(args.num_classes + 1)\n",
        "\n",
        "    assert args.lora_ckpt is not None\n",
        "    net.load_lora_parameters(args.lora_ckpt)\n",
        "    testloader = DataLoader(test_dataset, batch_size=20, shuffle=False, num_workers=2)\n",
        "    test_loss, overall_dice, dices_per_class = test_per_epoch(net, testloader, ce_loss, dice_loss, multimask_output=True, args=args)\n",
        "    dices_per_class_list = np.array(list(dices_per_class.values()))\n",
        "    print('Class Wise Dice:', dices_per_class)\n",
        "    print('Overall Dice:', np.mean(dices_per_class_list))\n"
      ],
      "metadata": {
        "id": "QJEAXtUcLSVV",
        "colab": {
          "base_uri": "https://localhost:8080/",
          "height": 1000
        },
        "outputId": "6932a6fc-f3a9-4de8-f567-e73a901e2509"
      },
      "execution_count": 7,
      "outputs": [
        {
          "output_type": "stream",
          "name": "stdout",
          "text": [
            "Class Wise Dice: {'dice_cls:1': 0.8569057510589768, 'dice_cls:2': 0.9447146738356562, 'dice_cls:3': 0.8879290685058361}\n",
            "Overall Dice: 0.8965164978001564\n"
          ]
        },
        {
          "output_type": "display_data",
          "data": {
            "text/plain": [
              "<Figure size 300x1600 with 48 Axes>"
            ],
            "image/png": "[encoded data removed]"
          },
          "metadata": {}
        }
      ]
    },
    {
      "cell_type": "code",
      "source": [],
      "metadata": {
        "id": "4LnLFmoqK4k3"
      },
      "execution_count": 7,
      "outputs": []
    }
  ]
}