{
  "nbformat": 4,
  "nbformat_minor": 0,
  "metadata": {
    "colab": {
      "provenance": [],
      "include_colab_link": true
    },
    "kernelspec": {
      "name": "python3",
      "display_name": "Python 3"
    },
    "language_info": {
      "name": "python"
    }
  },
  "cells": [
    {
      "cell_type": "markdown",
      "metadata": {
        "id": "view-in-github",
        "colab_type": "text"
      },
      "source": [
        "<a href=\"https://colab.research.google.com/github/dudeurv/SAMed/blob/main/bash.ipynb\" target=\"_parent\"><img src=\"https://colab.research.google.com/assets/colab-badge.svg\" alt=\"Open In Colab\"/></a>"
      ]
    },
    {
      "cell_type": "code",
      "source": [
        "password = fGT45HFt"
      ],
      "metadata": {
        "id": "5mnQH15ki5GF"
      },
      "execution_count": null,
      "outputs": []
    },
    {
      "cell_type": "code",
      "source": [
        "scp /Users/rajeshkdudeja/Documents/Cluster/* ududeja@beaker.cs.ucl.ac.uk:/cluster/project7/SAMed/\n",
        "\n",
        "ssh ududeja@beaker.cs.ucl.ac.uk\n",
        "\n",
        "ssh -J ududeja@tails.cs.ucl.ac.uk ududeja@beaker\n",
        "\n",
        "cd /cluster/project7/SAMed\n",
        "\n",
        "# Load the Python module if necessary for your cluster environment\n",
        "module load python/3.8.5\n",
        "\n",
        "# Activate the virtual environment\n",
        "source /cluster/project7/SAMed/mob/bin/activate\n",
        "\n",
        "cd samed_codes\n",
        "\n",
        "ls"
      ],
      "metadata": {
        "id": "eoTR9D2m1tMv"
      },
      "execution_count": null,
      "outputs": []
    },
    {
      "cell_type": "code",
      "source": [
        "scp /Users/rajeshkdudeja/Documents/Endonasal_Slices.zip mobislam@beaker.cs.ucl.ac.uk:/cluster/project7/SAMed/samed_codes"
      ],
      "metadata": {
        "id": "jjNbq7xyhgjD"
      },
      "execution_count": null,
      "outputs": []
    },
    {
      "cell_type": "code",
      "source": [
        "job_first=$(qsub run_V1_mob.sh)"
      ],
      "metadata": {
        "id": "X6ZqT2-u66WW"
      },
      "execution_count": null,
      "outputs": []
    },
    {
      "cell_type": "code",
      "source": [
        "scp  /home/ududeja /Users/rajeshkdudeja/Documents/Cluster"
      ],
      "metadata": {
        "id": "P0n31r29tlJS"
      },
      "execution_count": null,
      "outputs": []
    },
    {
      "cell_type": "code",
      "source": [
        "\n",
        "ssh -J mobislam@tails.cs.ucl.ac.uk mobislam@beaker\n",
        "\n",
        "scp /Users/rajeshkdudeja/Documents/Cluster/* mobislam@beaker.cs.ucl.ac.uk:/cluster/project7/SAMed/\n",
        "scp /Users/rajeshkdudeja/Documents/Slices.zip mobislam@beaker.cs.ucl.ac.uk:/cluster/project7/SAMed/"
      ],
      "metadata": {
        "id": "q4XPZ7WgXgur"
      },
      "execution_count": null,
      "outputs": []
    },
    {
      "cell_type": "code",
      "source": [
        "*22UCLweiss"
      ],
      "metadata": {
        "id": "j1ccA84KicBh"
      },
      "execution_count": null,
      "outputs": []
    },
    {
      "cell_type": "code",
      "source": [
        "pip install torch==1.11.0+cu113 torchvision==0.12.0+cu113 h5py==3.5.0 nibabel==4.0.2 numpy==1.21.6 pycocotools==2.0.6 scipy==1.7.3 tqdm==4.62.3"
      ],
      "metadata": {
        "id": "fqKxbbaw0doQ"
      },
      "execution_count": null,
      "outputs": []
    }
  ]
}